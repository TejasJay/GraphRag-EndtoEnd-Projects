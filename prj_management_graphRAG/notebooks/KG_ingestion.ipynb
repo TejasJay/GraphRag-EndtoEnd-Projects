{
 "cells": [
  {
   "cell_type": "markdown",
   "id": "ac6ae7d7",
   "metadata": {},
   "source": [
    "# Ingesting Data to Neo4j"
   ]
  },
  {
   "cell_type": "markdown",
   "id": "7eddcb6a",
   "metadata": {},
   "source": [
    " ### **Nodes** \n",
    "\n",
    " *   **Project:** This would be the central node, with each project representing a unique entity. \n",
    " *   **Project Manager:** Each project manager would be a distinct node. \n",
    " *   **Department:** Each department involved in the projects would be a node. \n",
    " *   **Region:** Each geographical region would be represented as a node. \n",
    " *   **Project Type:** Different types of projects would be individual nodes. \n",
    " *   **Phase:** Each project phase would be a separate node. \n",
    " *   **Status:** The different project statuses would be distinct nodes. \n",
    "\n",
    " ### **Relationships** \n",
    "\n",
    " *   A **Project** node would have a `MANAGED_BY` relationship with a **Project Manager** node. \n",
    " *   A **Project** node would be `ASSIGNED_TO` a **Department** node. \n",
    " *   A **Project** node would be `LOCATED_IN` a **Region** node. \n",
    " *   A **Project** node `HAS_TYPE` of a **Project Type** node. \n",
    " *   A **Project** node is `IN_PHASE` of a **Phase** node. \n",
    " *   A **Project** node `HAS_STATUS` of a **Status** node. \n",
    "\n",
    " ### **Properties** \n",
    "\n",
    " The remaining fields in the dataset can be stored as properties within the corresponding nodes. \n",
    "\n",
    " *   **Project Node Properties:** \n",
    "     *   `name` (e.g., \"Rhinestone\") \n",
    "     *   `description` \n",
    "     *   `cost` \n",
    "     *   `benefit` \n",
    "     *   `complexity` \n",
    "     *   `completionPercentage` \n",
    "     *   `year` \n",
    "     *   `month` \n",
    "     *   `startDate` \n",
    "     *   `endDate` \n",
    " *   **Project Manager Node Properties:** \n",
    "     *   `name` (e.g., \"Yael Wilcox\") \n",
    " *   **Department Node Properties:** \n",
    "     *   `name` (e.g., \"Admin & BI\") \n",
    " *   **Region Node Properties:** \n",
    "     *   `name` (e.g., \"North\") \n",
    " *   **Project Type Node Properties:** \n",
    "     *   `name` (e.g., \"INCOME GENERATION\") \n",
    " *   **Phase Node Properties:** \n",
    "     *   `name` (e.g., \"Phase 4 - Implement\") \n",
    " *   **Status Node Properties:** \n",
    "     *   `name` (e.g., \"In - Progress\") \n",
    "\n"
   ]
  },
  {
   "cell_type": "code",
   "execution_count": null,
   "id": "ee40316b",
   "metadata": {
    "vscode": {
     "languageId": "plaintext"
    }
   },
   "outputs": [],
   "source": []
  }
 ],
 "metadata": {
  "language_info": {
   "name": "python"
  }
 },
 "nbformat": 4,
 "nbformat_minor": 5
}
