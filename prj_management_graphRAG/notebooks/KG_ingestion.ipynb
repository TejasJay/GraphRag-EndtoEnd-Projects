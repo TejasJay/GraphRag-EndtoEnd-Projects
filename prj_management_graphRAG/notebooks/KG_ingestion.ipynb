{
 "cells": [
  {
   "cell_type": "markdown",
   "id": "ac6ae7d7",
   "metadata": {},
   "source": [
    "# Ingesting Data to Neo4j"
   ]
  },
  {
   "cell_type": "markdown",
   "id": "7eddcb6a",
   "metadata": {},
   "source": [
    " ### **Nodes** \n",
    "\n",
    " *   **Project:** This would be the central node, with each project representing a unique entity. \n",
    " *   **Project Manager:** Each project manager would be a distinct node. \n",
    " *   **Department:** Each department involved in the projects would be a node. \n",
    " *   **Region:** Each geographical region would be represented as a node. \n",
    " *   **Project Type:** Different types of projects would be individual nodes. \n",
    " *   **Phase:** Each project phase would be a separate node. \n",
    " *   **Status:** The different project statuses would be distinct nodes. \n",
    "\n",
    " ### **Relationships** \n",
    "\n",
    " *   A **Project** node would have a `MANAGED_BY` relationship with a **Project Manager** node. \n",
    " *   A **Project** node would be `ASSIGNED_TO` a **Department** node. \n",
    " *   A **Project** node would be `LOCATED_IN` a **Region** node. \n",
    " *   A **Project** node `HAS_TYPE` of a **Project Type** node. \n",
    " *   A **Project** node is `IN_PHASE` of a **Phase** node. \n",
    " *   A **Project** node `HAS_STATUS` of a **Status** node. \n",
    "\n",
    " ### **Properties** \n",
    "\n",
    " The remaining fields in the dataset can be stored as properties within the corresponding nodes. \n",
    "\n",
    " *   **Project Node Properties:** \n",
    "     *   `name` (e.g., \"Rhinestone\") \n",
    "     *   `description` \n",
    "     *   `cost` \n",
    "     *   `benefit` \n",
    "     *   `complexity` \n",
    "     *   `completionPercentage` \n",
    "     *   `year` \n",
    "     *   `month` \n",
    "     *   `startDate` \n",
    "     *   `endDate` \n",
    " *   **Project Manager Node Properties:** \n",
    "     *   `name` (e.g., \"Yael Wilcox\") \n",
    " *   **Department Node Properties:** \n",
    "     *   `name` (e.g., \"Admin & BI\") \n",
    " *   **Region Node Properties:** \n",
    "     *   `name` (e.g., \"North\") \n",
    " *   **Project Type Node Properties:** \n",
    "     *   `name` (e.g., \"INCOME GENERATION\") \n",
    " *   **Phase Node Properties:** \n",
    "     *   `name` (e.g., \"Phase 4 - Implement\") \n",
    " *   **Status Node Properties:** \n",
    "     *   `name` (e.g., \"In - Progress\") \n",
    "\n"
   ]
  },
  {
   "cell_type": "markdown",
   "id": "1a5d322a",
   "metadata": {},
   "source": [
    "### Bring up Neo4j by running **docker compose up -d**"
   ]
  },
  {
   "cell_type": "code",
   "execution_count": 5,
   "id": "ab4049cd",
   "metadata": {},
   "outputs": [
    {
     "data": {
      "text/plain": [
       "True"
      ]
     },
     "execution_count": 5,
     "metadata": {},
     "output_type": "execute_result"
    }
   ],
   "source": [
    "from dotenv import load_dotenv\n",
    "\n",
    "load_dotenv(override=True)"
   ]
  },
  {
   "cell_type": "markdown",
   "id": "e65ada62",
   "metadata": {},
   "source": [
    "### Clean the data"
   ]
  },
  {
   "cell_type": "code",
   "execution_count": 34,
   "id": "28bcb3f0",
   "metadata": {},
   "outputs": [
    {
     "data": {
      "text/html": [
       "<div>\n",
       "<style scoped>\n",
       "    .dataframe tbody tr th:only-of-type {\n",
       "        vertical-align: middle;\n",
       "    }\n",
       "\n",
       "    .dataframe tbody tr th {\n",
       "        vertical-align: top;\n",
       "    }\n",
       "\n",
       "    .dataframe thead th {\n",
       "        text-align: right;\n",
       "    }\n",
       "</style>\n",
       "<table border=\"1\" class=\"dataframe\">\n",
       "  <thead>\n",
       "    <tr style=\"text-align: right;\">\n",
       "      <th></th>\n",
       "      <th>Unnamed: 0</th>\n",
       "      <th>ProjectName</th>\n",
       "      <th>ProjectDescription</th>\n",
       "      <th>ProjectType</th>\n",
       "      <th>ProjectManager</th>\n",
       "      <th>Region</th>\n",
       "      <th>Department</th>\n",
       "      <th>ProjectCost</th>\n",
       "      <th>ProjectBenefit</th>\n",
       "      <th>Complexity</th>\n",
       "      <th>Status</th>\n",
       "      <th>CompletionPercentage</th>\n",
       "      <th>Phase</th>\n",
       "      <th>Year</th>\n",
       "      <th>Month</th>\n",
       "      <th>StartDate</th>\n",
       "      <th>EndDate</th>\n",
       "    </tr>\n",
       "  </thead>\n",
       "  <tbody>\n",
       "    <tr>\n",
       "      <th>0</th>\n",
       "      <td>0</td>\n",
       "      <td>Rhinestone</td>\n",
       "      <td>Associations Now Is A Casual Game To Teach You...</td>\n",
       "      <td>INCOME GENERATION</td>\n",
       "      <td>Yael Wilcox</td>\n",
       "      <td>North</td>\n",
       "      <td>Admin &amp; BI</td>\n",
       "      <td>3648615.0</td>\n",
       "      <td>8443980.0</td>\n",
       "      <td>High</td>\n",
       "      <td>In - Progress</td>\n",
       "      <td>77</td>\n",
       "      <td>Phase 4 - Implement</td>\n",
       "      <td>2021</td>\n",
       "      <td>2</td>\n",
       "      <td>2021-02-01</td>\n",
       "      <td>2021-06-01</td>\n",
       "    </tr>\n",
       "    <tr>\n",
       "      <th>1</th>\n",
       "      <td>1</td>\n",
       "      <td>A Triumph Of Softwares</td>\n",
       "      <td>Is A Fully Managed Content Marketing Software ...</td>\n",
       "      <td>INCOME GENERATION</td>\n",
       "      <td>Brenda Chandler</td>\n",
       "      <td>West</td>\n",
       "      <td>eCommerce</td>\n",
       "      <td>4018835.0</td>\n",
       "      <td>9012225.0</td>\n",
       "      <td>High</td>\n",
       "      <td>Cancelled</td>\n",
       "      <td>80</td>\n",
       "      <td>Phase 2 - Develop</td>\n",
       "      <td>2021</td>\n",
       "      <td>3</td>\n",
       "      <td>2021-03-01</td>\n",
       "      <td>2021-06-01</td>\n",
       "    </tr>\n",
       "    <tr>\n",
       "      <th>2</th>\n",
       "      <td>2</td>\n",
       "      <td>The Blue Bird</td>\n",
       "      <td>Most Content Marketers Know The Golden Rule: Y...</td>\n",
       "      <td>INCOME GENERATION</td>\n",
       "      <td>Nyasia Hunter</td>\n",
       "      <td>North</td>\n",
       "      <td>Warehouse</td>\n",
       "      <td>4285483.0</td>\n",
       "      <td>9078339.0</td>\n",
       "      <td>High</td>\n",
       "      <td>Completed</td>\n",
       "      <td>100</td>\n",
       "      <td>Phase 4 - Implement</td>\n",
       "      <td>2021</td>\n",
       "      <td>3</td>\n",
       "      <td>2021-03-01</td>\n",
       "      <td>2021-06-01</td>\n",
       "    </tr>\n",
       "    <tr>\n",
       "      <th>3</th>\n",
       "      <td>3</td>\n",
       "      <td>Remembering Our Ancestors</td>\n",
       "      <td>Utilize And Utilizes (Verb Form) The Open, Inc...</td>\n",
       "      <td>PROCESS IMPROVEMENT</td>\n",
       "      <td>Brenda Chandler</td>\n",
       "      <td>East</td>\n",
       "      <td>Sales and Marketing</td>\n",
       "      <td>5285864.0</td>\n",
       "      <td>8719006.0</td>\n",
       "      <td>High</td>\n",
       "      <td>Cancelled</td>\n",
       "      <td>75</td>\n",
       "      <td>Phase 5 - Measure</td>\n",
       "      <td>2021</td>\n",
       "      <td>3</td>\n",
       "      <td>2021-03-01</td>\n",
       "      <td>2021-06-01</td>\n",
       "    </tr>\n",
       "    <tr>\n",
       "      <th>4</th>\n",
       "      <td>4</td>\n",
       "      <td>Skyhawks</td>\n",
       "      <td>Is A Solution For Founders Who Want To Win At ...</td>\n",
       "      <td>WORKING CAPITAL IMPROVEMENT</td>\n",
       "      <td>Jaylyn Mckenzie</td>\n",
       "      <td>East</td>\n",
       "      <td>eCommerce</td>\n",
       "      <td>5785601.0</td>\n",
       "      <td>8630148.0</td>\n",
       "      <td>High</td>\n",
       "      <td>Completed</td>\n",
       "      <td>100</td>\n",
       "      <td>Phase 1 - Explore</td>\n",
       "      <td>2021</td>\n",
       "      <td>3</td>\n",
       "      <td>2021-03-01</td>\n",
       "      <td>2021-06-01</td>\n",
       "    </tr>\n",
       "  </tbody>\n",
       "</table>\n",
       "</div>"
      ],
      "text/plain": [
       "   Unnamed: 0                ProjectName  \\\n",
       "0           0                 Rhinestone   \n",
       "1           1     A Triumph Of Softwares   \n",
       "2           2              The Blue Bird   \n",
       "3           3  Remembering Our Ancestors   \n",
       "4           4                   Skyhawks   \n",
       "\n",
       "                                  ProjectDescription  \\\n",
       "0  Associations Now Is A Casual Game To Teach You...   \n",
       "1  Is A Fully Managed Content Marketing Software ...   \n",
       "2  Most Content Marketers Know The Golden Rule: Y...   \n",
       "3  Utilize And Utilizes (Verb Form) The Open, Inc...   \n",
       "4  Is A Solution For Founders Who Want To Win At ...   \n",
       "\n",
       "                   ProjectType   ProjectManager Region           Department  \\\n",
       "0            INCOME GENERATION      Yael Wilcox  North           Admin & BI   \n",
       "1            INCOME GENERATION  Brenda Chandler   West            eCommerce   \n",
       "2            INCOME GENERATION    Nyasia Hunter  North            Warehouse   \n",
       "3          PROCESS IMPROVEMENT  Brenda Chandler   East  Sales and Marketing   \n",
       "4  WORKING CAPITAL IMPROVEMENT  Jaylyn Mckenzie   East            eCommerce   \n",
       "\n",
       "   ProjectCost  ProjectBenefit Complexity         Status  \\\n",
       "0    3648615.0       8443980.0       High  In - Progress   \n",
       "1    4018835.0       9012225.0       High      Cancelled   \n",
       "2    4285483.0       9078339.0       High      Completed   \n",
       "3    5285864.0       8719006.0       High      Cancelled   \n",
       "4    5785601.0       8630148.0       High      Completed   \n",
       "\n",
       "   CompletionPercentage                Phase  Year  Month   StartDate  \\\n",
       "0                    77  Phase 4 - Implement  2021      2  2021-02-01   \n",
       "1                    80    Phase 2 - Develop  2021      3  2021-03-01   \n",
       "2                   100  Phase 4 - Implement  2021      3  2021-03-01   \n",
       "3                    75    Phase 5 - Measure  2021      3  2021-03-01   \n",
       "4                   100    Phase 1 - Explore  2021      3  2021-03-01   \n",
       "\n",
       "      EndDate  \n",
       "0  2021-06-01  \n",
       "1  2021-06-01  \n",
       "2  2021-06-01  \n",
       "3  2021-06-01  \n",
       "4  2021-06-01  "
      ]
     },
     "execution_count": 34,
     "metadata": {},
     "output_type": "execute_result"
    }
   ],
   "source": [
    "import pandas as pd\n",
    "\n",
    "df = pd.read_csv(\"../data/cleaned_data.csv\")\n",
    "\n",
    "df.head()\n"
   ]
  },
  {
   "cell_type": "markdown",
   "id": "b06d587d",
   "metadata": {},
   "source": [
    "### Available Database in Neo4j"
   ]
  },
  {
   "cell_type": "code",
   "execution_count": 12,
   "id": "afa1fab8",
   "metadata": {},
   "outputs": [
    {
     "name": "stdout",
     "output_type": "stream",
     "text": [
      "neo4j\n",
      "system\n"
     ]
    }
   ],
   "source": [
    "with driver.session(database=\"system\") as session:\n",
    "    result = session.run(\"SHOW DATABASES\")\n",
    "    for record in result:\n",
    "        print(record[\"name\"])\n"
   ]
  },
  {
   "cell_type": "markdown",
   "id": "9030590b",
   "metadata": {},
   "source": [
    "### Trying to create a new DB if it fails then it'll use the default neo4j DB"
   ]
  },
  {
   "cell_type": "code",
   "execution_count": null,
   "id": "4d0a46df",
   "metadata": {},
   "outputs": [
    {
     "name": "stdout",
     "output_type": "stream",
     "text": [
      "Error creating database 'my_new_database': {code: Neo.ClientError.Statement.UnsupportedAdministrationCommand} {message: Unsupported administration command: CREATE DATABASE my_new_database}\n",
      "Falling back to default 'neo4j' database.\n",
      "Test node created in 'neo4j' database.\n"
     ]
    }
   ],
   "source": [
    "from neo4j import GraphDatabase\n",
    "\n",
    "NEO4J_URI = \"bolt://localhost:7688\"\n",
    "NEO4J_USER = \"neo4j\"\n",
    "NEO4J_PASSWORD = \"password\"\n",
    "\n",
    "driver = GraphDatabase.driver(NEO4J_URI, auth=(NEO4J_USER, NEO4J_PASSWORD))\n",
    "\n",
    "db_name = \"my_new_database\"\n",
    "\n",
    "# Try creating a new database (Enterprise only)\n",
    "try:\n",
    "    with driver.session(database=\"system\") as session:\n",
    "        session.run(f\"CREATE DATABASE {db_name}\")\n",
    "        print(f\"Database '{db_name}' creation command sent.\")\n",
    "    active_db = db_name\n",
    "except Exception as e:\n",
    "    print(f\"Error creating database '{db_name}': {e}\")\n",
    "    print(\"Falling back to default 'neo4j' database.\")\n",
    "    active_db = \"neo4j\"\n",
    "\n",
    "\n"
   ]
  },
  {
   "cell_type": "markdown",
   "id": "f8caefdb",
   "metadata": {},
   "source": [
    "### Create the nodes and relationships"
   ]
  },
  {
   "cell_type": "code",
   "execution_count": 33,
   "id": "687c90fe",
   "metadata": {},
   "outputs": [
    {
     "name": "stdout",
     "output_type": "stream",
     "text": [
      "Data insertion complete.\n"
     ]
    }
   ],
   "source": [
    "import pandas as pd\n",
    "# Assume 'driver' is already configured and 'df' is your DataFrame with the new column names.\n",
    "\n",
    "def insert_data(tx, row_data):\n",
    "    # The Cypher query itself doesn't need to change, as it uses abstract parameters.\n",
    "    tx.run('''\n",
    "        MERGE (project:Project {name: $ProjectName})\n",
    "        ON CREATE SET\n",
    "           project.description = $ProjectDescription,\n",
    "           project.cost = toFloat($ProjectCost),\n",
    "           project.benefit = toFloat($ProjectBenefit),\n",
    "           project.complexity = $Complexity,\n",
    "           project.completionPercentage = toInteger($CompletionPercentage),\n",
    "           project.year = toInteger($Year),\n",
    "           project.month = toInteger($Month),\n",
    "           project.startDate = date($StartDate),\n",
    "           project.endDate = date($EndDate)\n",
    "\n",
    "        MERGE (manager:ProjectManager {name: $ProjectManager})\n",
    "        MERGE (dept:Department {name: $Department})\n",
    "        MERGE (region:Region {name: $Region})\n",
    "        MERGE (type:ProjectType {name: $ProjectType})\n",
    "        MERGE (phase:Phase {name: $Phase})\n",
    "        MERGE (status:Status {name: $Status})\n",
    "\n",
    "        MERGE (project)-[:MANAGED_BY]->(manager)\n",
    "        MERGE (project)-[:ASSIGNED_TO]->(dept)\n",
    "        MERGE (project)-[:LOCATED_IN]->(region)\n",
    "        MERGE (project)-[:HAS_TYPE]->(type)\n",
    "        MERGE (project)-[:IN_PHASE]->(phase)\n",
    "        MERGE (project)-[:HAS_STATUS]->(status)\n",
    "    ''',\n",
    "    row_data\n",
    "    )\n",
    "\n",
    "# --- Run the transaction ---\n",
    "with driver.session() as session:\n",
    "    for _, row in df.iterrows():\n",
    "        session.execute_write(insert_data, row.to_dict())\n",
    "\n",
    "print(\"Data insertion complete.\")"
   ]
  },
  {
   "cell_type": "code",
   "execution_count": null,
   "id": "b36c54b7",
   "metadata": {},
   "outputs": [],
   "source": []
  }
 ],
 "metadata": {
  "kernelspec": {
   "display_name": ".venv",
   "language": "python",
   "name": "python3"
  },
  "language_info": {
   "codemirror_mode": {
    "name": "ipython",
    "version": 3
   },
   "file_extension": ".py",
   "mimetype": "text/x-python",
   "name": "python",
   "nbconvert_exporter": "python",
   "pygments_lexer": "ipython3",
   "version": "3.13.5"
  }
 },
 "nbformat": 4,
 "nbformat_minor": 5
}
